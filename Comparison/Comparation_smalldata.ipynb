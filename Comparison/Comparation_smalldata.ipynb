{
 "cells": [
  {
   "cell_type": "heading",
   "metadata": {},
   "level": 1,
   "source": [
    "Step 1: Load the data"
   ]
  },
  {
   "cell_type": "code",
   "execution_count": 1,
   "metadata": {
    "collapsed": true
   },
   "outputs": [
    {
     "name": "stdout",
     "output_type": "stream",
     "text": [
      "(100,)\n(100,)\n(100,)\n(100,)\n"
     ]
    }
   ],
   "source": [
    "import numpy as np\n",
    "npzfile1 = np.load(\"D:\\workspace\\LinearMixedModel\\Data\\smalldata\\data.npz\")\n",
    "beta_true = npzfile1['arr_2']\n",
    "npzfile2 = np.load(\"D:\\workspace\\LinearMixedModel\\Data\\smalldata\\ML.npz\")\n",
    "# print npzfile2.size\n",
    "beta_reml = npzfile2['arr_0']\n",
    "beta_ml = npzfile2['arr_1']\n",
    "beta_lasso = npzfile2['arr_2']\n",
    "beta_true = beta_true.reshape((-1,))\n",
    "beta_lasso = beta_lasso.reshape((-1,))\n",
    "print np.shape(beta_ml)\n",
    "print np.shape(beta_lasso)\n",
    "print np.shape(beta_reml)\n",
    "print np.shape(beta_true)"
   ]
  },
  {
   "cell_type": "heading",
   "metadata": {},
   "level": 1,
   "source": [
    "Step 2: Prepare for ROC curve"
   ]
  },
  {
   "cell_type": "code",
   "execution_count": 5,
   "metadata": {},
   "outputs": [],
   "source": [
    "def calROC(threshod , method):\n",
    "    beta_true_r = np.where(beta_true > 0, 1 , 0)\n",
    "    ones = float(np.count_nonzero(beta_true_r))\n",
    "    beta_ml_r = np.where(beta_ml > threshod, 1 , 0)\n",
    "    beta_reml_r = np.where(beta_reml > threshod, 1, 0)\n",
    "    beta_lasso_r = np.where(beta_lasso > threshod , 1 ,0)\n",
    "    if method == 'ml':\n",
    "        mat = beta_true_r - beta_ml_r\n",
    "    if method == 'reml':\n",
    "        mat = beta_true_r - beta_reml_r\n",
    "    if method == 'lasso':\n",
    "        mat = beta_true_r - beta_lasso_r\n",
    "    count = np.bincount(mat+1)\n",
    "    countii = np.nonzero(count)[0]\n",
    "    outcome = zip(countii , count)\n",
    "    if len(outcome) == 3:\n",
    "        TPR = 1 - outcome[2][1] / ones\n",
    "        FPR = outcome[0][1]/ (np.shape(beta_reml)[0] - ones)\n",
    "    else:\n",
    "        if outcome[0][0] == 0:\n",
    "            TPR = 1\n",
    "            FPR = outcome[0][1]/ (np.shape(beta_reml)[0] - ones)\n",
    "        else:\n",
    "            TPR = 0\n",
    "            FPR = 0\n",
    "    # print outcome\n",
    "    return TPR, FPR\n",
    "# calROC(0 , 'reml')\n",
    "# calROC(0.5 , 'ml')\n",
    "# calROC(0.5 , 'lasso')"
   ]
  },
  {
   "cell_type": "heading",
   "metadata": {},
   "level": 1,
   "source": [
    "Step 3: Draw ROC curve"
   ]
  },
  {
   "cell_type": "code",
   "execution_count": 6,
   "metadata": {},
   "outputs": [
    {
     "data": {
      "image/png": "[encoded data removed]",
      "text/plain": [
       "<matplotlib.figure.Figure at 0x6d8b930>"
      ]
     },
     "metadata": {},
     "output_type": "display_data"
    }
   ],
   "source": [
    "%matplotlib inline\n",
    "import matplotlib.pyplot as plt\n",
    "def drawROC(start , end , num, method):\n",
    "    TPR_set = []\n",
    "    FPR_set = []\n",
    "    for i in np.linspace(start , end , num):\n",
    "        TPR, FPR = calROC(i, method)\n",
    "        TPR_set.append(TPR)\n",
    "        FPR_set.append(FPR)\n",
    "    plt.plot(FPR_set, TPR_set)   \n",
    "    # print TPR_set\n",
    "    # print FPR_set\n",
    "drawROC(-2 , 3 ,100, 'ml')\n",
    "drawROC(-1, 2, 100, 'reml')\n",
    "drawROC(-1, 2 , 100, 'lasso')\n",
    "plt.show()"
   ]
  }
 ],
 "metadata": {
  "kernelspec": {
   "display_name": "Python 2",
   "language": "python",
   "name": "python2"
  },
  "language_info": {
   "codemirror_mode": {
    "name": "ipython",
    "version": 2.0
   },
   "file_extension": ".py",
   "mimetype": "text/x-python",
   "name": "python",
   "nbconvert_exporter": "python",
   "pygments_lexer": "ipython2",
   "version": "2.7.6"
  }
 },
 "nbformat": 4,
 "nbformat_minor": 0
}