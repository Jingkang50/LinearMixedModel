{
 "cells": [
  {
   "cell_type": "heading",
   "metadata": {
    "collapsed": true
   },
   "level": 1,
   "source": [
    "This is the simulation of LMM to solve the coefficient then."
   ]
  },
  {
   "cell_type": "code",
   "execution_count": 9,
   "metadata": {},
   "outputs": [],
   "source": [
    "import numpy as np"
   ]
  },
  {
   "cell_type": "heading",
   "metadata": {},
   "level": 2,
   "source": [
    "Step 1: Load in data once generated."
   ]
  },
  {
   "cell_type": "code",
   "execution_count": 10,
   "metadata": {},
   "outputs": [
    {
     "name": "stdout",
     "output_type": "stream",
     "text": [
      "(500, 10000)\n(500, 1)\n(500,)\n"
     ]
    }
   ],
   "source": [
    "npzfile = np.load(\"./Data/LMM0706/1.npz\")\n",
    "X = npzfile['arr_1']\n",
    "Y = npzfile['arr_3']\n",
    "G = npzfile['arr_4']\n",
    "print np.shape(X)\n",
    "print np.shape(Y)\n",
    "print np.shape(G)\n",
    "# B = npzfile['arr_2'] need to derive"
   ]
  },
  {
   "cell_type": "code",
   "execution_count": 11,
   "metadata": {},
   "outputs": [],
   "source": [
    "# Formulate matrix Z\n",
    "Z = np.zeros([np.shape(X)[0],np.amax(G)+1])\n",
    "for i in range(1,np.shape(G)[0]):\n",
    "    Z[i-1][G[i]] = 1"
   ]
  },
  {
   "cell_type": "heading",
   "metadata": {},
   "level": 2,
   "source": [
    "Step 2: Use Basic LMM to estimate B"
   ]
  },
  {
   "cell_type": "code",
   "execution_count": 16,
   "metadata": {},
   "outputs": [
    {
     "ename": "IndentationError",
     "evalue": "unindent does not match any outer indentation level (lmm.py, line 145)",
     "traceback": [
      "\u001b[1;36m  File \u001b[1;32m\"lmm.py\"\u001b[1;36m, line \u001b[1;32m145\u001b[0m\n\u001b[1;33m    beta = Ls.association(xs,REML=REML,returnBeta=True)[1]\u001b[0m\n\u001b[1;37m                                                          ^\u001b[0m\n\u001b[1;31mIndentationError\u001b[0m\u001b[1;31m:\u001b[0m unindent does not match any outer indentation level\n"
     ],
     "output_type": "error"
    }
   ],
   "source": [
    "import lmm\n",
    "import time\n",
    "import sys\n",
    "# calculate the kinship (why?)\n",
    "K = lmm.calculateKinship(Z)\n",
    "# return beta, sigma\n",
    "# ML solution\n",
    "begin = time.time()\n",
    "B_reml = lmm.GWAS(Y,X,K)\n",
    "end = time.time()\n",
    "sys.stderr.write(\"Total time for 10000 SNPs: %0.3f\\n\" % (end- begin))\n",
    "np.savetxt(\"./Data/LMM0717/REML_B.csv\", B_reml[0], delimiter=\",\")\n",
    "B = lmm.GWAS(Y,X,K,REML=False)\n",
    "np.savetxt(\"./Data/LMM0717/B.csv\", B[0], delimiter=\",\")"
   ]
  },
  {
   "cell_type": "heading",
   "metadata": {},
   "level": 2,
   "source": [
    "Step 3: Use LMM+Lasso"
   ]
  },
  {
   "cell_type": "code",
   "execution_count": 43,
   "metadata": {},
   "outputs": [
    {
     "name": "stdout",
     "output_type": "stream",
     "text": [
      "train LMM-Lasso\n...l1-penalty: 0.50\n"
     ]
    },
    {
     "name": "stdout",
     "output_type": "stream",
     "text": [
      "... finished in 1.41s\n10000\n"
     ]
    }
   ],
   "source": [
    "import lmm_lasso\n",
    "res = lmm_lasso.train(X,K,Y,0.5)\n",
    "beta = res[\"weights\"]\n",
    "print len(beta)\n",
    "np.savetxt(\"./Data/LMM0717/lasso_B.csv\", beta, delimiter=\",\")\n",
    "np.savez(\"./Data/LMM0717/ML\",B_reml[0],B[0],beta)"
   ]
  },
  {
   "cell_type": "heading",
   "metadata": {},
   "level": 2,
   "source": [
    "Some trials"
   ]
  },
  {
   "cell_type": "code",
   "execution_count": 34,
   "metadata": {},
   "outputs": [
    {
     "name": "stdout",
     "output_type": "stream",
     "text": [
      "[-8.38773429]\n"
     ]
    }
   ],
   "source": [
    "num = 10\n",
    "dim = 10\n",
    "try_x = X[0:num][0:dim]\n",
    "try_y = Y[0:num]\n",
    "try_g = G[0:num]\n",
    "try_z = np.zeros([np.shape(try_x)[0],np.amax(try_g)+1])\n",
    "for i in range(1,np.shape(try_g)[0]):\n",
    "    try_z[i-1][try_g[i]] = 1\n",
    "try_k = lmm.calculateKinship(try_z)\n",
    "try_L = lmm.LMM(try_y,try_k)\n",
    "print try_L.fit(try_x)[1][1]"
   ]
  }
 ],
 "metadata": {
  "kernelspec": {
   "display_name": "Python 2",
   "language": "python",
   "name": "python2"
  },
  "language_info": {
   "codemirror_mode": {
    "name": "ipython",
    "version": 2.0
   },
   "file_extension": ".py",
   "mimetype": "text/x-python",
   "name": "python",
   "nbconvert_exporter": "python",
   "pygments_lexer": "ipython2",
   "version": "2.7.6"
  }
 },
 "nbformat": 4,
 "nbformat_minor": 0
}